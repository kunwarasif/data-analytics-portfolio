{
 "cells": [
  {
   "cell_type": "markdown",
   "id": "22401499",
   "metadata": {},
   "source": [
    "# Financial Performance Dashboard\n",
    "\n",
    "This notebook aggregates financial metrics from the Sample Superstore dataset, calculating monthly revenue, expenses, and profit. Visualizations are produced using plotly to create an interactive dashboard.\n"
   ]
  },
  {
   "cell_type": "code",
   "execution_count": null,
   "id": "3b3ce108",
   "metadata": {},
   "outputs": [],
   "source": [
    "import pandas as pd\n",
    "import plotly.express as px\n",
    "\n",
    "# Load dataset\n",
    "df = pd.read_csv('Sample_Superstore.csv', encoding='ISO-8859-1')\n",
    "\n",
    "# Convert dates and calculate expenses (assume expense = sales - profit)\n",
    "df['Order Date'] = pd.to_datetime(df['Order Date'])\n",
    "df['Month'] = df['Order Date'].dt.to_period('M')\n",
    "df['Expenses'] = df['Sales'] - df['Profit']\n",
    "\n",
    "monthly = df.groupby('Month').agg({'Sales':'sum','Profit':'sum','Expenses':'sum'}).reset_index()\n",
    "monthly['Month'] = monthly['Month'].astype(str)\n",
    "\n",
    "# Plot revenue and profit\n",
    "fig = px.line(monthly, x='Month', y=['Sales','Profit','Expenses'], markers=True, title='Monthly Financial Metrics')\n",
    "fig.update_layout(xaxis_title='Month', yaxis_title='Amount', legend_title='Metric')\n",
    "fig\n"
   ]
  }
 ],
 "metadata": {},
 "nbformat": 4,
 "nbformat_minor": 5
}
