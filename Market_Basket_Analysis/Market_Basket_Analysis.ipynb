{
 "cells": [
  {
   "cell_type": "markdown",
   "id": "2a0b8c47",
   "metadata": {},
   "source": [
    "# Market Basket Analysis\n",
    "\n",
    "This notebook performs market basket analysis on the Sample Superstore dataset using a simple Apriori implementation. It identifies frequent item pairs and computes their support and confidence.\n"
   ]
  },
  {
   "cell_type": "code",
   "execution_count": null,
   "id": "f74abbbc",
   "metadata": {},
   "outputs": [],
   "source": [
    "import pandas as pd\n",
    "from itertools import combinations\n",
    "\n",
    "# Load dataset\n",
    "df = pd.read_csv('Sample_Superstore.csv', encoding='ISO-8859-1')\n",
    "\n",
    "# Create transactions by grouping product names per order ID\n",
    "transactions = df.groupby('Order ID')['Product Name'].apply(list)\n",
    "print('Number of transactions:', len(transactions))\n"
   ]
  },
  {
   "cell_type": "code",
   "execution_count": null,
   "id": "f8f05224",
   "metadata": {},
   "outputs": [],
   "source": [
    "# Compute pair counts\n",
    "from collections import Counter\n",
    "\n",
    "# Generate pair counts across all transactions\n",
    "pair_counts = Counter()\n",
    "for items in transactions:\n",
    "    unique_items = set(items)\n",
    "    for pair in combinations(sorted(unique_items), 2):\n",
    "        pair_counts[pair] += 1\n",
    "\n",
    "# Convert counts to a DataFrame and display top 20 pairs\n",
    "pair_df = pd.DataFrame([(pair[0], pair[1], count) for pair, count in pair_counts.items()],\n",
    "                      columns=['Item A', 'Item B', 'Count']).sort_values('Count', ascending=False)\n",
    "pair_df.head(10)\n"
   ]
  },
  {
   "cell_type": "code",
   "execution_count": null,
   "id": "e34c420d",
   "metadata": {},
   "outputs": [],
   "source": [
    "# Compute basic metrics (support, confidence, lift) for top 20 pairs\n",
    "total = len(transactions)\n",
    "results = []\n",
    "# Compute item supports\n",
    "from collections import defaultdict\n",
    "item_counts = defaultdict(int)\n",
    "for items in transactions:\n",
    "    for item in set(items):\n",
    "        item_counts[item] += 1\n",
    "\n",
    "# We'll use the top 20 pairs from pair_df\n",
    "top_pairs = pair_df.head(10)\n",
    "\n",
    "for _, row in top_pairs.iterrows():\n",
    "    a, b, count = row['Item A'], row['Item B'], row['Count']\n",
    "    support = count / total\n",
    "    support_a = item_counts[a] / total\n",
    "    support_b = item_counts[b] / total\n",
    "    confidence_ab = support / support_a if support_a > 0 else 0\n",
    "    confidence_ba = support / support_b if support_b > 0 else 0\n",
    "    lift = support / (support_a * support_b) if support_a * support_b > 0 else 0\n",
    "    results.append({'Pair': f\"{a} & {b}\", 'Count': count, 'Support': support,\n",
    "                    'Confidence (A->B)': confidence_ab, 'Confidence (B->A)': confidence_ba, 'Lift': lift})\n",
    "\n",
    "results_df = pd.DataFrame(results)\n",
    "results_df.sort_values('Lift', ascending=False)\n"
   ]
  }
 ],
 "metadata": {},
 "nbformat": 4,
 "nbformat_minor": 5
}
