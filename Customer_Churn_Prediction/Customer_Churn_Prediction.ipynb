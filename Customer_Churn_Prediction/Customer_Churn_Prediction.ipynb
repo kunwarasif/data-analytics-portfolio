{
 "cells": [
  {
   "cell_type": "markdown",
   "id": "dcbfb272",
   "metadata": {},
   "source": [
    "# Customer Churn Prediction\n",
    "\n",
    "This notebook builds a simple predictive model to identify customers likely to churn based on their contract, payment method, tenure, charges, and demographics. The data used here is a synthetic approximation of typical telecom churn datasets.\n"
   ]
  },
  {
   "cell_type": "code",
   "execution_count": null,
   "id": "f3ca97cf",
   "metadata": {},
   "outputs": [],
   "source": [
    "import pandas as pd\n",
    "from sklearn.model_selection import train_test_split\n",
    "from sklearn.linear_model import LogisticRegression\n",
    "from sklearn.metrics import classification_report, confusion_matrix, accuracy_score\n",
    "\n",
    "# Load dataset\n",
    "df = pd.read_csv('synthetic_customer_churn.csv')\n",
    "\n",
    "# One-hot encode categorical variables\n",
    "df_enc = pd.get_dummies(df, columns=['Contract','PaymentMethod'], drop_first=True)\n",
    "\n",
    "X = df_enc.drop('Churn', axis=1)\n",
    "y = df_enc['Churn']\n",
    "\n",
    "# Train-test split\n",
    "X_train, X_test, y_train, y_test = train_test_split(X, y, test_size=0.2, random_state=42)\n",
    "\n",
    "# Fit logistic regression model\n",
    "model = LogisticRegression(max_iter=1000)\n",
    "model.fit(X_train, y_train)\n",
    "\n",
    "# Predictions\n",
    "y_pred = model.predict(X_test)\n",
    "print('Accuracy:', accuracy_score(y_test, y_pred))\n",
    "print('\n",
    "Classification Report:\n",
    "', classification_report(y_test, y_pred))\n"
   ]
  }
 ],
 "metadata": {},
 "nbformat": 4,
 "nbformat_minor": 5
}
