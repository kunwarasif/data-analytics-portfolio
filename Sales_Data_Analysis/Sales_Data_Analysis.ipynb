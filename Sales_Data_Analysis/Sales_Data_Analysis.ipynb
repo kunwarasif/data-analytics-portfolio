{
 "cells": [
  {
   "cell_type": "markdown",
   "id": "3b96c7b0",
   "metadata": {},
   "source": [
    "# Sales Data Analysis\n",
    "\n",
    "This notebook performs exploratory data analysis (EDA) on the Sample Superstore sales dataset. It examines sales trends, category performance, and top products to provide insights for decision-making.\n"
   ]
  },
  {
   "cell_type": "code",
   "execution_count": null,
   "id": "98e3bac8",
   "metadata": {},
   "outputs": [],
   "source": [
    "import pandas as pd\n",
    "import matplotlib.pyplot as plt\n",
    "import seaborn as sns\n",
    "\n",
    "# Load dataset\n",
    "df = pd.read_csv('Sample_Superstore.csv', encoding='ISO-8859-1')\n",
    "df.head()\n"
   ]
  },
  {
   "cell_type": "code",
   "execution_count": null,
   "id": "625f0d3d",
   "metadata": {},
   "outputs": [],
   "source": [
    "# Convert 'Order Date' to datetime and create month/year columns\n",
    "df['Order Date'] = pd.to_datetime(df['Order Date'])\n",
    "df['Month'] = df['Order Date'].dt.to_period('M')\n",
    "\n",
    "# Summary statistics\n",
    "print('Dataset shape:', df.shape)\n",
    "print('Columns:', df.columns.tolist())\n",
    "df.describe(include='all').T\n"
   ]
  },
  {
   "cell_type": "code",
   "execution_count": null,
   "id": "bc3f1085",
   "metadata": {},
   "outputs": [],
   "source": [
    "# Monthly sales trend\n",
    "monthly_sales = df.groupby('Month')['Sales'].sum()\n",
    "plt.figure(figsize=(10,4))\n",
    "monthly_sales.plot(marker='o')\n",
    "plt.title('Monthly Sales Trend')\n",
    "plt.xlabel('Month')\n",
    "plt.ylabel('Sales')\n",
    "plt.xticks(rotation=45)\n",
    "plt.tight_layout()\n",
    "plt.show()\n"
   ]
  },
  {
   "cell_type": "code",
   "execution_count": null,
   "id": "5fb332ef",
   "metadata": {},
   "outputs": [],
   "source": [
    "# Sales by category\n",
    "category_sales = df.groupby('Category')['Sales'].sum().sort_values(ascending=False)\n",
    "plt.figure(figsize=(6,4))\n",
    "sns.barplot(x=category_sales.index, y=category_sales.values)\n",
    "plt.title('Sales by Category')\n",
    "plt.xlabel('Category')\n",
    "plt.ylabel('Sales')\n",
    "plt.tight_layout()\n",
    "plt.show()\n"
   ]
  },
  {
   "cell_type": "code",
   "execution_count": null,
   "id": "30817933",
   "metadata": {},
   "outputs": [],
   "source": [
    "# Top 10 products by sales\n",
    "product_sales = df.groupby('Product Name')['Sales'].sum().sort_values(ascending=False).head(10)\n",
    "plt.figure(figsize=(8,5))\n",
    "sns.barplot(x=product_sales.values, y=product_sales.index, orient='h')\n",
    "plt.title('Top 10 Products by Sales')\n",
    "plt.xlabel('Sales')\n",
    "plt.ylabel('Product Name')\n",
    "plt.tight_layout()\n",
    "plt.show()\n"
   ]
  }
 ],
 "metadata": {},
 "nbformat": 4,
 "nbformat_minor": 5
}
